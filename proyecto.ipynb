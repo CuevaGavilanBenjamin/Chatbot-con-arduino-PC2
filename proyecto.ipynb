{
 "cells": [
  {
   "cell_type": "code",
   "execution_count": null,
   "id": "f7e91fbb",
   "metadata": {},
   "outputs": [
    {
     "ename": "",
     "evalue": "",
     "output_type": "error",
     "traceback": [
      "\u001b[1;31mRunning cells with 'venv (Python 3.13.0)' requires the ipykernel package.\n",
      "\u001b[1;31mInstall 'ipykernel' into the Python environment. \n",
      "\u001b[1;31mCommand: '\"c:/Users/User/OneDrive - UNIVERSIDAD NACIONAL DE INGENIERIA/Documents/CICLOS UNI/CICLO 6/Analitica de datos/Chatbot-con-arduino-PC2/venv/Scripts/python.exe\" -m pip install ipykernel -U --force-reinstall'"
     ]
    }
   ],
   "source": [
    "%pip install pyserial pandas matplotlib"
   ]
  },
  {
   "cell_type": "code",
   "execution_count": null,
   "id": "e9cfc7e6",
   "metadata": {},
   "outputs": [],
   "source": [
    "#Importaciones y configuración\n",
    "import serial\n",
    "import time\n",
    "import pandas as pd\n",
    "import matplotlib.pyplot as plt\n",
    "from collections import deque\n",
    "from datetime import datetime\n",
    "from IPython.display import clear_output"
   ]
  },
  {
   "cell_type": "code",
   "execution_count": null,
   "id": "509dee0f",
   "metadata": {},
   "outputs": [],
   "source": [
    "#Calibración de sensor\n",
    "# Lista de valores cuando el sensor está en suelo completamente húmedo (wet)\n",
    "valores_wet = [\n",
    "    355,193,336,417,299,238,352,404,252,247,348,421,324,196,314,374,\n",
    "    362,201,363,203,292,362,379,214,282,362,387,220,283,368,368,185,\n",
    "    327,365,353,183,331,416,283,266,367,340,216,350,388,189,332,419,\n",
    "    267,276,375,334,209,343,419,250,276,378,352,197,340,414,278,256,\n",
    "    348,370,228,346,268,283,322,318,242,297,327,314,239,301,334,304,\n",
    "    251,314,341,248,308,347,263,296,315,328,244,304,342,283,277,324,\n",
    "    304,259,316,313,251,314,324,239,320,321,240,310,346,282,273,321,\n",
    "    313,248,313,336,245,307,347,266,337,388,213,334,389,226,307,401,\n",
    "    303,248,353,360,194,331,412,268,274,368,342,246,341,209,334,403,\n",
    "    260,269,350,348,202,321,384,293,250,343,349,199,337,388\n",
    "]\n",
    "\n",
    "# Cálculo del valor promedio (wet)\n",
    "promedio_wet = round(sum(valores_wet) / len(valores_wet))\n",
    "print(f\"🔹 Valor promedio 'wet': {promedio_wet}\")\n"
   ]
  },
  {
   "cell_type": "code",
   "execution_count": null,
   "id": "c92a9105",
   "metadata": {},
   "outputs": [],
   "source": [
    "#Definición de funciones auxiliares\n",
    "def iniciar_arduino(puerto='COM7', baudios=9600):\n",
    "    \"\"\"Abre el puerto serie y espera para que Arduino inicie\"\"\"\n",
    "    arduino = serial.Serial(puerto, baudios)\n",
    "    time.sleep(2)\n",
    "    return arduino\n",
    "\n",
    "\n",
    "def leer_valor_crudo(arduino):\n",
    "    \"\"\"Lee una línea del puerto, decodifica y convierte a entero\"\"\"\n",
    "    try:\n",
    "        linea = arduino.readline().decode('utf-8').strip()\n",
    "        return int(linea)\n",
    "    except:\n",
    "        return None\n",
    "\n",
    "\n",
    "def calcular_humedad(valor, wet, dry):\n",
    "    \"\"\"Convierte valor crudo en % de humedad\"\"\"\n",
    "    porcentaje = (valor - wet) * 100 / (dry - wet)\n",
    "    porcentaje = 100 - porcentaje  # invierte escala\n",
    "    return max(0, min(100, round(porcentaje)))"
   ]
  },
  {
   "cell_type": "code",
   "execution_count": null,
   "id": "d0f9e72e",
   "metadata": {},
   "outputs": [],
   "source": [
    "#Clases para gráfico y guardado\n",
    "class GuardadorCSV:\n",
    "    def __init__(self, archivo='humedad_datos.csv'):\n",
    "        self.datos = []\n",
    "        self.archivo = archivo\n",
    "\n",
    "    def agregar(self, tiempo, humedad):\n",
    "        self.datos.append({'tiempo': tiempo, 'humedad': humedad})\n",
    "\n",
    "    def guardar(self):\n",
    "        df = pd.DataFrame(self.datos)\n",
    "        df.to_csv(self.archivo, index=False)\n",
    "        print(f\"✅ Datos guardados en {self.archivo}\")\n",
    "\n",
    "class GraficadorNotebook:\n",
    "    def __init__(self, max_puntos=60):\n",
    "        self.max_puntos = max_puntos\n",
    "        self.tiempos = []\n",
    "        self.humedades = []\n",
    "\n",
    "    def actualizar(self, tiempo, humedad):\n",
    "        # Añade y recorta a max_puntos\n",
    "        self.tiempos.append(tiempo)\n",
    "        self.humedades.append(humedad)\n",
    "        if len(self.tiempos) > self.max_puntos:\n",
    "            self.tiempos.pop(0)\n",
    "            self.humedades.pop(0)\n",
    "\n",
    "        # Limpia la salida anterior y dibuja\n",
    "        clear_output(wait=True)\n",
    "        plt.figure(figsize=(8,4))\n",
    "        plt.plot(self.tiempos, self.humedades, marker='o')\n",
    "        plt.title(\"Humedad en tiempo real\")\n",
    "        plt.xlabel(\"Hora\")\n",
    "        plt.ylabel(\"Humedad (%)\")\n",
    "        plt.ylim(0, 100)\n",
    "        plt.xticks(rotation=45)\n",
    "        plt.tight_layout()\n",
    "        plt.show()"
   ]
  },
  {
   "cell_type": "code",
   "execution_count": null,
   "id": "fb8db49c",
   "metadata": {},
   "outputs": [],
   "source": [
    "# Parámetros de calibración\n",
    "WET = promedio_wet\n",
    "DRY = 450\n",
    "# Inicializar componentes\n",
    "arduino = iniciar_arduino('COM7', 9600)\n",
    "graf = GraficadorNotebook(max_puntos=60)\n",
    "guarda = GuardadorCSV()\n",
    "print(\"⏳ Leyendo datos (Ctrl+C para detener):\")\n",
    "\n",
    "try:\n",
    "    while True:\n",
    "        valor = leer_valor_crudo(arduino)\n",
    "        if valor is not None:\n",
    "            humedad = calcular_humedad(valor, WET, DRY)\n",
    "            hora = datetime.now().strftime(\"%H:%M:%S\")\n",
    "            print(f\"{hora} - Valor: {valor} → Humedad: {humedad}%\")\n",
    "            graf.actualizar(hora, humedad)\n",
    "            guarda.agregar(hora, humedad)\n",
    "        time.sleep(1)\n",
    "\n",
    "except KeyboardInterrupt:\n",
    "    guarda.guardar()\n",
    "    arduino.close()\n",
    "    print(\"🔚 Proceso finalizado.\")"
   ]
  }
 ],
 "metadata": {
  "kernelspec": {
   "display_name": "venv",
   "language": "python",
   "name": "python3"
  },
  "language_info": {
   "codemirror_mode": {
    "name": "ipython",
    "version": 3
   },
   "file_extension": ".py",
   "mimetype": "text/x-python",
   "name": "python",
   "nbconvert_exporter": "python",
   "pygments_lexer": "ipython3",
   "version": "3.13.0"
  }
 },
 "nbformat": 4,
 "nbformat_minor": 5
}
